{
 "cells": [
  {
   "cell_type": "markdown",
   "id": "a063f552",
   "metadata": {},
   "source": [
    "### python 數學運算\n",
    "\n",
    "字串 str\n",
    "整數 int\n",
    "浮點數 float\n",
    "布林值 bool\n",
    "\n",
    "工具:\n",
    "function(函數,函式)"
   ]
  },
  {
   "cell_type": "code",
   "execution_count": 5,
   "id": "bb3df91d",
   "metadata": {},
   "outputs": [
    {
     "name": "stdout",
     "output_type": "stream",
     "text": [
      "<class 'str'>\n",
      "<class 'int'>\n",
      "<class 'float'>\n",
      "<class 'bool'>\n"
     ]
    }
   ],
   "source": [
    "name = \"小明\"\n",
    "print(type(name)) #呼叫type函數\n",
    "\n",
    "age = 18\n",
    "print(type(age))\n",
    "\n",
    "height = 170.5\n",
    "print(type(height))\n",
    "\n",
    "is_student = True\n",
    "print(type(is_student))\n",
    "\n",
    "\n",
    "\n",
    "\n",
    "\n",
    "\n"
   ]
  },
  {
   "cell_type": "code",
   "execution_count": 9,
   "id": "e37cc412",
   "metadata": {},
   "outputs": [
    {
     "name": "stdout",
     "output_type": "stream",
     "text": [
      "name變數儲存的值是 小明 ,資料類型: <class 'str'>....\n",
      "age變數儲存的值是 18 ,資料類型: <class 'int'>....\n"
     ]
    }
   ],
   "source": [
    "print(\"name變數儲存的值是\", name, \",資料類型:\", type(name), sep=' ', end='....\\n')\n",
    "print(\"age變數儲存的值是\", age, \",資料類型:\", type(age), sep=' ', end='....\\n')\n"
   ]
  },
  {
   "cell_type": "code",
   "execution_count": null,
   "id": "a9652ba3",
   "metadata": {},
   "outputs": [
    {
     "name": "stdout",
     "output_type": "stream",
     "text": [
      "name變數儲存的值是小明,資料類型:<class 'str'>\n"
     ]
    }
   ],
   "source": [
    "#字串插補\n",
    "print(f\"name變數儲存的值是{name},資料類型:{type(name)}.\")"
   ]
  },
  {
   "cell_type": "code",
   "execution_count": 5,
   "id": "23a86e99",
   "metadata": {},
   "outputs": [
    {
     "name": "stdout",
     "output_type": "stream",
     "text": [
      "加法 a + b = 10\n",
      "減法 a - b = 4\n",
      "乘法 a * b = 21\n",
      "除法 a / b = 2.33\n",
      "取餘數 a % b = 1\n",
      "次方 a ** b = 343\n"
     ]
    }
   ],
   "source": [
    "# 數學運算範例\n",
    "a = 7\n",
    "b = 3\n",
    "\n",
    "addition = a + b\n",
    "subtraction = a - b\n",
    "multiplication = a * b\n",
    "division = a / b\n",
    "modulus = a % b\n",
    "exponent = a ** b\n",
    "\n",
    "print(f\"加法 a + b = {addition}\")\n",
    "print(f\"減法 a - b = {subtraction}\")\n",
    "print(f\"乘法 a * b = {multiplication}\")\n",
    "print(f\"除法 a / b = {division:.2f}\")\n",
    "print(f\"取餘數 a % b = {modulus}\")\n",
    "print(f\"次方 a ** b = {exponent}\")"
   ]
  },
  {
   "cell_type": "code",
   "execution_count": 13,
   "id": "3fe8cd5c",
   "metadata": {},
   "outputs": [
    {
     "name": "stdout",
     "output_type": "stream",
     "text": [
      "斜邊 = 5.00\n"
     ]
    }
   ],
   "source": [
    "#有一個直角三角形,已知兩邊\n",
    "\n",
    "import math \n",
    "\n",
    "adjacent_side =4\n",
    "oppsite__side =3\n",
    "\n",
    "hypotenuse_length = math.sqrt(adjacent_side**2+oppsite__side**2)\n",
    "\n",
    "print(f'斜邊 = {hypotenuse_length:.2f}')\n",
    "\n",
    "\n"
   ]
  }
 ],
 "metadata": {
  "kernelspec": {
   "display_name": "langchain",
   "language": "python",
   "name": "python3"
  },
  "language_info": {
   "codemirror_mode": {
    "name": "ipython",
    "version": 3
   },
   "file_extension": ".py",
   "mimetype": "text/x-python",
   "name": "python",
   "nbconvert_exporter": "python",
   "pygments_lexer": "ipython3",
   "version": "3.11.13"
  }
 },
 "nbformat": 4,
 "nbformat_minor": 5
}
