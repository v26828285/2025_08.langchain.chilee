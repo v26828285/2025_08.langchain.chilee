{
 "cells": [
  {
   "cell_type": "code",
   "execution_count": null,
   "id": "5f02e6bc",
   "metadata": {},
   "outputs": [],
   "source": [
    "\n",
    "i = 10\n",
    "i = i + 50\n",
    "i\n"
   ]
  },
  {
   "cell_type": "code",
   "execution_count": null,
   "id": "12a090fb",
   "metadata": {},
   "outputs": [
    {
     "data": {
      "text/plain": [
       "60"
      ]
     },
     "execution_count": 1,
     "metadata": {},
     "output_type": "execute_result"
    }
   ],
   "source": [
    "i = 10\n",
    "#複合指定運算子\n",
    "i += 50\n",
    "i\n"
   ]
  },
  {
   "cell_type": "code",
   "execution_count": 3,
   "id": "bf2f9166",
   "metadata": {},
   "outputs": [
    {
     "data": {
      "text/plain": [
       "55"
      ]
     },
     "execution_count": 3,
     "metadata": {},
     "output_type": "execute_result"
    }
   ],
   "source": [
    "i = 0\n",
    "i += 1\n",
    "i += 2\n",
    "i += 3\n",
    "i += 4\n",
    "i += 5\n",
    "i += 6\n",
    "i += 7\n",
    "i += 8\n",
    "i += 9\n",
    "i += 10\n",
    "i"
   ]
  },
  {
   "cell_type": "markdown",
   "id": "e01beffa",
   "metadata": {},
   "source": [
    "重複執行\n",
    "\n",
    "明確知道執行的次數 \n",
    "\n",
    "for .... in\n",
    "for 區塊變數 in 1.2.3.4.5.6.7.8.9.10\n",
    "\n",
    "不知道執行的次數  \n",
    "while\n",
    "\n",
    "while True:\n",
    "\n",
    "break 跳出迴圈不玩了\n",
    "\n",
    "\n",
    "while True:\n",
    "\n",
    "continue 跳出迴圈，重新到while 執行"
   ]
  },
  {
   "cell_type": "code",
   "execution_count": 5,
   "id": "ff3aa498",
   "metadata": {},
   "outputs": [
    {
     "name": "stdout",
     "output_type": "stream",
     "text": [
      "0\n",
      "1\n",
      "2\n",
      "3\n",
      "4\n",
      "5\n",
      "6\n",
      "7\n",
      "8\n",
      "9\n"
     ]
    }
   ],
   "source": [
    "for i in range(10):\n",
    "    print(i)"
   ]
  },
  {
   "cell_type": "code",
   "execution_count": 6,
   "id": "fc4dee4b",
   "metadata": {},
   "outputs": [
    {
     "name": "stdout",
     "output_type": "stream",
     "text": [
      "1\n",
      "2\n",
      "3\n",
      "4\n",
      "5\n",
      "6\n",
      "7\n",
      "8\n",
      "9\n",
      "10\n"
     ]
    }
   ],
   "source": [
    "for i in range(1,11):\n",
    "    print(i)"
   ]
  },
  {
   "cell_type": "code",
   "execution_count": 7,
   "id": "4d96ba42",
   "metadata": {},
   "outputs": [
    {
     "name": "stdout",
     "output_type": "stream",
     "text": [
      "1\n",
      "3\n",
      "5\n",
      "7\n",
      "9\n"
     ]
    }
   ],
   "source": [
    "for i in range(1,11,2):\n",
    "    print(i)"
   ]
  },
  {
   "cell_type": "code",
   "execution_count": 10,
   "id": "21a8f574",
   "metadata": {},
   "outputs": [
    {
     "data": {
      "text/plain": [
       "55"
      ]
     },
     "execution_count": 10,
     "metadata": {},
     "output_type": "execute_result"
    }
   ],
   "source": [
    "i=0\n",
    "for j in range(1,11):\n",
    "   i +=j\n",
    "i"
   ]
  },
  {
   "cell_type": "code",
   "execution_count": 11,
   "id": "09323655",
   "metadata": {},
   "outputs": [
    {
     "data": {
      "text/plain": [
       "5050"
      ]
     },
     "execution_count": 11,
     "metadata": {},
     "output_type": "execute_result"
    }
   ],
   "source": [
    "i=0\n",
    "for j in range(1,101):\n",
    "   i +=j\n",
    "i"
   ]
  },
  {
   "cell_type": "code",
   "execution_count": 17,
   "id": "75ea922f",
   "metadata": {},
   "outputs": [
    {
     "name": "stdout",
     "output_type": "stream",
     "text": [
      "再大一點!\n",
      "再大一點!\n",
      "猜對了!\n",
      "遊戲結束\n"
     ]
    }
   ],
   "source": [
    "import random\n",
    "secret_number = random.randint(1,10)\n",
    "\n",
    "while True:\n",
    "    guess = int(input(\"請猜一個1到10的數字:\"))\n",
    "    if guess == secret_number:\n",
    "        print(\"猜對了!\")\n",
    "        break\n",
    "    elif guess < secret_number:         \n",
    "        print(\"再大一點!\")\n",
    "    else:\n",
    "        print(\"再小一點!\")    \n",
    "\n",
    "print(\"遊戲結束\")"
   ]
  },
  {
   "cell_type": "code",
   "execution_count": null,
   "id": "1aba708e",
   "metadata": {},
   "outputs": [],
   "source": []
  }
 ],
 "metadata": {
  "kernelspec": {
   "display_name": "langchain",
   "language": "python",
   "name": "python3"
  },
  "language_info": {
   "codemirror_mode": {
    "name": "ipython",
    "version": 3
   },
   "file_extension": ".py",
   "mimetype": "text/x-python",
   "name": "python",
   "nbconvert_exporter": "python",
   "pygments_lexer": "ipython3",
   "version": "3.11.13"
  }
 },
 "nbformat": 4,
 "nbformat_minor": 5
}
