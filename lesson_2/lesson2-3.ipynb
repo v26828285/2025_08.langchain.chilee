{
 "cells": [
  {
   "cell_type": "code",
   "execution_count": null,
   "id": "5f02e6bc",
   "metadata": {},
   "outputs": [],
   "source": [
    "\n",
    "i = 10\n",
    "i = i + 50\n",
    "i\n"
   ]
  },
  {
   "cell_type": "code",
   "execution_count": null,
   "id": "12a090fb",
   "metadata": {},
   "outputs": [
    {
     "data": {
      "text/plain": [
       "60"
      ]
     },
     "execution_count": 1,
     "metadata": {},
     "output_type": "execute_result"
    }
   ],
   "source": [
    "i = 10\n",
    "#複合指定運算子\n",
    "i += 50\n",
    "i\n"
   ]
  },
  {
   "cell_type": "code",
   "execution_count": 3,
   "id": "bf2f9166",
   "metadata": {},
   "outputs": [
    {
     "data": {
      "text/plain": [
       "55"
      ]
     },
     "execution_count": 3,
     "metadata": {},
     "output_type": "execute_result"
    }
   ],
   "source": [
    "i = 0\n",
    "i += 1\n",
    "i += 2\n",
    "i += 3\n",
    "i += 4\n",
    "i += 5\n",
    "i += 6\n",
    "i += 7\n",
    "i += 8\n",
    "i += 9\n",
    "i += 10\n",
    "i"
   ]
  },
  {
   "cell_type": "markdown",
   "id": "e01beffa",
   "metadata": {},
   "source": [
    "重複執行\n",
    "明確知道執行的次數 for .... in\n",
    "不知道執行的次數  while"
   ]
  },
  {
   "cell_type": "code",
   "execution_count": null,
   "id": "ff3aa498",
   "metadata": {},
   "outputs": [],
   "source": []
  }
 ],
 "metadata": {
  "kernelspec": {
   "display_name": "langchain",
   "language": "python",
   "name": "python3"
  },
  "language_info": {
   "codemirror_mode": {
    "name": "ipython",
    "version": 3
   },
   "file_extension": ".py",
   "mimetype": "text/x-python",
   "name": "python",
   "nbconvert_exporter": "python",
   "pygments_lexer": "ipython3",
   "version": "3.11.13"
  }
 },
 "nbformat": 4,
 "nbformat_minor": 5
}
