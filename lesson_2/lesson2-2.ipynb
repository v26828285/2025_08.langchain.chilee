{
 "cells": [
  {
   "cell_type": "code",
   "execution_count": null,
   "id": "8caadeaf",
   "metadata": {},
   "outputs": [],
   "source": [
    "#有一個直角三角形,已知兩邊\n",
    "\n",
    "import math \n",
    "\n",
    "adjacent_side =4\n",
    "oppsite__side =3\n",
    "\n",
    "hypotenuse_length = math.sqrt(adjacent_side**2+oppsite__side**2)\n",
    "\n",
    "print(f'斜邊 = {hypotenuse_length:.2f}')"
   ]
  },
  {
   "cell_type": "code",
   "execution_count": null,
   "id": "fb3984c0",
   "metadata": {},
   "outputs": [
    {
     "name": "stdout",
     "output_type": "stream",
     "text": [
      "LAURA\n",
      "她人不錯\n"
     ]
    }
   ],
   "source": [
    "is_nice = True\n",
    "print(\"LAURA\")\n",
    "#單向選擇\n",
    "if is_nice:\n",
    "    print(\"她人不錯\")\n"
   ]
  },
  {
   "cell_type": "code",
   "execution_count": null,
   "id": "17c9c26d",
   "metadata": {},
   "outputs": [
    {
     "name": "stdout",
     "output_type": "stream",
     "text": [
      "LAURA\n",
      "她人一般\n"
     ]
    }
   ],
   "source": [
    "is_nice = False\n",
    "print(\"LAURA\")\n",
    "#雙向選擇\n",
    "if is_nice:\n",
    "    print(\"她人不錯\")\n",
    "else:\n",
    "    print(\"她人一般\")"
   ]
  },
  {
   "cell_type": "code",
   "execution_count": 7,
   "id": "48e7611b",
   "metadata": {},
   "outputs": [
    {
     "name": "stdout",
     "output_type": "stream",
     "text": [
      "及格\n"
     ]
    }
   ],
   "source": [
    "scores = 75\n",
    "\n",
    "if scores>=60:\n",
    "    print('及格')\n",
    "else:\n",
    "    print('不及格')"
   ]
  }
 ],
 "metadata": {
  "kernelspec": {
   "display_name": "langchain",
   "language": "python",
   "name": "python3"
  },
  "language_info": {
   "codemirror_mode": {
    "name": "ipython",
    "version": 3
   },
   "file_extension": ".py",
   "mimetype": "text/x-python",
   "name": "python",
   "nbconvert_exporter": "python",
   "pygments_lexer": "ipython3",
   "version": "3.11.13"
  }
 },
 "nbformat": 4,
 "nbformat_minor": 5
}
