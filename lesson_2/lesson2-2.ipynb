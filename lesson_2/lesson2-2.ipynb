{
 "cells": [
  {
   "cell_type": "code",
   "execution_count": null,
   "id": "8caadeaf",
   "metadata": {},
   "outputs": [],
   "source": [
    "#有一個直角三角形,已知兩邊\n",
    "\n",
    "import math \n",
    "\n",
    "adjacent_side =4\n",
    "oppsite__side =3\n",
    "\n",
    "hypotenuse_length = math.sqrt(adjacent_side**2+oppsite__side**2)\n",
    "\n",
    "print(f'斜邊 = {hypotenuse_length:.2f}')"
   ]
  }
 ],
 "metadata": {
  "kernelspec": {
   "display_name": "langchain",
   "language": "python",
   "name": "python3"
  },
  "language_info": {
   "name": "python",
   "version": "3.11.13"
  }
 },
 "nbformat": 4,
 "nbformat_minor": 5
}
