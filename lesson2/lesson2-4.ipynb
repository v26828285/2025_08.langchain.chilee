{
 "cells": [
  {
   "cell_type": "code",
   "execution_count": 6,
   "id": "53dd538a",
   "metadata": {},
   "outputs": [
    {
     "name": "stdout",
     "output_type": "stream",
     "text": [
      "   *   \n",
      "  ***  \n",
      " ***** \n",
      "*******\n",
      "   |   \n"
     ]
    }
   ],
   "source": [
    "#自訂一個function 必須列印出聖誕樹\n",
    "#todo:實作function\n",
    "\n",
    "def print_christmas_tree():\n",
    "    # 樹葉部分\n",
    "    print(\"   *   \")\n",
    "    print(\"  ***  \")\n",
    "    print(\" ***** \")\n",
    "    print(\"*******\")\n",
    "    # 樹幹部分\n",
    "    print(\"   |   \")\n",
    "\n",
    "# 呼叫函式，列印聖誕樹\n",
    "print_christmas_tree()"
   ]
  },
  {
   "cell_type": "code",
   "execution_count": 7,
   "id": "5f25d5b1",
   "metadata": {},
   "outputs": [
    {
     "name": "stdout",
     "output_type": "stream",
     "text": [
      "   *   \n",
      "  ***  \n",
      " ***** \n",
      "*******\n",
      "   |   \n"
     ]
    }
   ],
   "source": [
    "# 呼叫函式，列印聖誕樹\n",
    "print_christmas_tree()"
   ]
  },
  {
   "cell_type": "code",
   "execution_count": 17,
   "id": "def6177e",
   "metadata": {},
   "outputs": [
    {
     "name": "stdout",
     "output_type": "stream",
     "text": [
      "圓面積78.54\n",
      "圓周長31.42\n"
     ]
    }
   ],
   "source": [
    "#自訂一個function 計算圓面積 + 圓周長\n",
    "\n",
    "import math\n",
    "def calculate_circle(radius):\n",
    "    area = math.pi * radius** 2\n",
    "    circumference = 2 * math.pi * radius\n",
    "    return (area,circumference)\n",
    "\n",
    "radius = 5\n",
    "area , circumference =calculate_circle(radius)\n",
    "print(f'圓面積{area:.2f}') #冒號.2f 取小數點兩位\n",
    "print(f'圓周長{circumference:.2f}')"
   ]
  },
  {
   "cell_type": "code",
   "execution_count": 15,
   "id": "d7a8d520",
   "metadata": {},
   "outputs": [
    {
     "name": "stdout",
     "output_type": "stream",
     "text": [
      "188\n",
      "75\n"
     ]
    }
   ],
   "source": [
    "#tuple拆解法\n",
    "height, weight = 188,75\n",
    "print(height)\n",
    "print(weight)\n"
   ]
  }
 ],
 "metadata": {
  "kernelspec": {
   "display_name": "langchain",
   "language": "python",
   "name": "python3"
  },
  "language_info": {
   "codemirror_mode": {
    "name": "ipython",
    "version": 3
   },
   "file_extension": ".py",
   "mimetype": "text/x-python",
   "name": "python",
   "nbconvert_exporter": "python",
   "pygments_lexer": "ipython3",
   "version": "3.11.13"
  }
 },
 "nbformat": 4,
 "nbformat_minor": 5
}
