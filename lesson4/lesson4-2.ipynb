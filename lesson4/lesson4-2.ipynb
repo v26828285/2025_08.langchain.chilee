{
 "cells": [
  {
   "cell_type": "code",
   "execution_count": 8,
   "id": "6b42e5f1",
   "metadata": {},
   "outputs": [
    {
     "name": "stdout",
     "output_type": "stream",
     "text": [
      "* Running on local URL:  http://0.0.0.0:7861\n",
      "* To create a public link, set `share=True` in `launch()`.\n"
     ]
    },
    {
     "data": {
      "text/html": [
       "<div><iframe src=\"http://localhost:7861/\" width=\"100%\" height=\"500\" allow=\"autoplay; camera; microphone; clipboard-read; clipboard-write;\" frameborder=\"0\" allowfullscreen></iframe></div>"
      ],
      "text/plain": [
       "<IPython.core.display.HTML object>"
      ]
     },
     "metadata": {},
     "output_type": "display_data"
    }
   ],
   "source": [
    "from langchain_ollama import ChatOllama\n",
    "import gradio as gr\n",
    "from dotenv import load_dotenv\n",
    "import os\n",
    "\n",
    "# 載入環境變數（可用 OLLAMA_URL / OLLAMA_MODEL 覆蓋預設）\n",
    "load_dotenv()\n",
    "\n",
    "\n",
    "# 使用最原始的呼叫方式：直接以字串 prompt 送到 Ollama\n",
    "model = ChatOllama(model=\"llama3.2:latest\", base_url=\"http://localhost:11434\")\n",
    "\n",
    "\n",
    "def answer(prompt: str) -> str:\n",
    "    \"\"\"最簡單的 wrapper：把 prompt 傳給 model.invoke，回傳文字回應。\"\"\"\n",
    "    if not prompt:\n",
    "        return \"\"\n",
    "    res = model.invoke(prompt)\n",
    "    return res.content if hasattr(res, \"content\") else str(res)\n",
    "\n",
    "\n",
    "# 最小的 Gradio 介面：一個輸入框 + 一個文字輸出\n",
    "iface = gr.Interface(\n",
    "    fn=answer,\n",
    "    inputs=gr.Textbox(lines=3, placeholder=\"在此輸入問題，按送出...\"),\n",
    "    outputs=gr.Textbox(lines=10, label=\"回覆\"),\n",
    "    title=\"Ollama 簡易 Gradio 範例\",\n",
    "    description=\"示範如何把原先的 Ollama 呼叫整合到 Gradio。可用 OLLAMA_URL/OLLAMA_MODEL 環境變數覆蓋預設。\",\n",
    ")\n",
    "\n",
    "if __name__ == \"__main__\":\n",
    "    iface.launch(server_name=\"0.0.0.0\", server_port=7861)"
   ]
  }
 ],
 "metadata": {
  "kernelspec": {
   "display_name": ".venv",
   "language": "python",
   "name": "python3"
  },
  "language_info": {
   "codemirror_mode": {
    "name": "ipython",
    "version": 3
   },
   "file_extension": ".py",
   "mimetype": "text/x-python",
   "name": "python",
   "nbconvert_exporter": "python",
   "pygments_lexer": "ipython3",
   "version": "3.10.18"
  }
 },
 "nbformat": 4,
 "nbformat_minor": 5
}
