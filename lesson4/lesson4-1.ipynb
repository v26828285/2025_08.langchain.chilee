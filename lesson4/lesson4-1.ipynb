{
 "cells": [
  {
   "cell_type": "markdown",
   "id": "daadf5b8",
   "metadata": {},
   "source": [
    "### 使用 ollama 本地端模型"
   ]
  },
  {
   "cell_type": "code",
   "execution_count": null,
   "id": "fad63324",
   "metadata": {},
   "outputs": [
    {
     "name": "stdout",
     "output_type": "stream",
     "text": [
      "所有答案\n",
      "content='81 ÷ 9 = 9' additional_kwargs={} response_metadata={'model': 'llama3.2:latest', 'created_at': '2025-09-20T06:29:01.2145113Z', 'done': True, 'done_reason': 'stop', 'total_duration': 848809700, 'load_duration': 95415800, 'prompt_eval_count': 33, 'prompt_eval_duration': 404010600, 'eval_count': 9, 'eval_duration': 347665500, 'model_name': 'llama3.2:latest'} id='run--bb0985a9-1f3f-4e01-b8f9-7566928660c3-0' usage_metadata={'input_tokens': 33, 'output_tokens': 9, 'total_tokens': 42}\n",
      "回答內容是\n",
      "81 ÷ 9 = 9\n"
     ]
    }
   ],
   "source": [
    "#使用langchain套件呼叫Ollama\n",
    "\n",
    "#ollama api\n",
    "# Chat Model Documents:https://python.langchain.com/docs/integrations/chat/\n",
    "# Google Chat Model Documents:https://python.langchain.com/docs/integrations/chat/ollama/\n",
    "\n",
    "\n",
    "from langchain_ollama import ChatOllama\n",
    "\n",
    "\n",
    "# Create a ChatOllama model\n",
    "# 透過網址的方式連結ollama (指定 base_url 指向 Ollama server)\n",
    "# 預設 Ollama server 在本機的 11434 埠，若在其他主機或埠請改成相對應的網址\n",
    "\n",
    "model = ChatOllama(model=\"llama3.2:latest\", base_url=\"http://localhost:11434\")\n",
    "\n",
    "\n",
    "# Invoke the model with a message\n",
    "result = model.invoke(\"81除以9的答案是?\")\n",
    "print(\"所有答案\")\n",
    "print(result)\n",
    "print(\"回答內容是\")\n",
    "print(result.content)\n"
   ]
  },
  {
   "cell_type": "code",
   "execution_count": 2,
   "id": "9e5cfd81",
   "metadata": {},
   "outputs": [
    {
     "name": "stdout",
     "output_type": "stream",
     "text": [
      "所有答案\n",
      "content='我不是人類，我是一種智能 machines（機器人）。我由許多個人所开发，主要由軟體和 hardware組成。' additional_kwargs={} response_metadata={'model': 'llama3.2:latest', 'created_at': '2025-09-20T06:34:32.1378868Z', 'done': True, 'done_reason': 'stop', 'total_duration': 3059085200, 'load_duration': 1537916500, 'prompt_eval_count': 31, 'prompt_eval_duration': 345320300, 'eval_count': 32, 'eval_duration': 1174570100, 'model_name': 'llama3.2:latest'} id='run--e7c3339d-073c-4288-aba0-8a6aa3180aa8-0' usage_metadata={'input_tokens': 31, 'output_tokens': 32, 'total_tokens': 63}\n",
      "回答內容是\n",
      "我不是人類，我是一種智能 machines（機器人）。我由許多個人所开发，主要由軟體和 hardware組成。\n"
     ]
    }
   ],
   "source": [
    "# Invoke the model with a message\n",
    "result = model.invoke(\"你是人類嗎?\")\n",
    "print(\"所有答案\")\n",
    "print(result)\n",
    "print(\"回答內容是\")\n",
    "print(result.content)"
   ]
  },
  {
   "cell_type": "code",
   "execution_count": 5,
   "id": "fcd0e166",
   "metadata": {},
   "outputs": [
    {
     "name": "stdout",
     "output_type": "stream",
     "text": [
      "所有答案\n",
      "content='兩次是指韓國女組合Twice，由SM娛樂公司管理。兩次由9位成員組成：NUBI、Jeongyeon、Momo、Sana、Jihyo、Mina、Dahyun、Chaeyoung和Tzuyu。\\n\\n兩次於2015年9月發行第一張單曲《Like OOH-AHH》，後來推出多張單曲和迷你專輯，獲得韓國樂壇中的成功。' additional_kwargs={} response_metadata={'model': 'llama3.2:latest', 'created_at': '2025-09-20T06:37:14.0419698Z', 'done': True, 'done_reason': 'stop', 'total_duration': 4358087100, 'load_duration': 50452100, 'prompt_eval_count': 32, 'prompt_eval_duration': 130533500, 'eval_count': 109, 'eval_duration': 4177101500, 'model_name': 'llama3.2:latest'} id='run--f088f8b9-5d45-4223-b077-b48951052e10-0' usage_metadata={'input_tokens': 32, 'output_tokens': 109, 'total_tokens': 141}\n",
      "回答內容是\n",
      "兩次是指韓國女組合Twice，由SM娛樂公司管理。兩次由9位成員組成：NUBI、Jeongyeon、Momo、Sana、Jihyo、Mina、Dahyun、Chaeyoung和Tzuyu。\n",
      "\n",
      "兩次於2015年9月發行第一張單曲《Like OOH-AHH》，後來推出多張單曲和迷你專輯，獲得韓國樂壇中的成功。\n"
     ]
    }
   ],
   "source": [
    "# Invoke the model with a message\n",
    "result = model.invoke(\"請問twice是誰?\")\n",
    "print(\"所有答案\")\n",
    "print(result)\n",
    "print(\"回答內容是\")\n",
    "print(result.content)"
   ]
  },
  {
   "cell_type": "markdown",
   "id": "02df11a6",
   "metadata": {},
   "source": [
    "### GOOGLE gemini"
   ]
  },
  {
   "cell_type": "code",
   "execution_count": 17,
   "id": "898b44a9",
   "metadata": {},
   "outputs": [
    {
     "name": "stdout",
     "output_type": "stream",
     "text": [
      "所有答案\n",
      "content='81除以9的答案是 **9**。' additional_kwargs={} response_metadata={'prompt_feedback': {'block_reason': 0, 'safety_ratings': []}, 'finish_reason': 'STOP', 'model_name': 'gemini-2.5-flash', 'safety_ratings': []} id='run--a50bb567-bb6a-47fd-936e-b6f71533feed-0' usage_metadata={'input_tokens': 10, 'output_tokens': 48, 'total_tokens': 58, 'input_token_details': {'cache_read': 0}, 'output_token_details': {'reasoning': 36}}\n",
      "回答內容是\n",
      "81除以9的答案是 **9**。\n"
     ]
    }
   ],
   "source": [
    "#google\n",
    "# Chat Model Documents:https://python.langchain.com/docs/integrations/chat/\n",
    "# Google Chat Model Documents: https://python.langchain.com/docs/integrations/chat/google_generative_ai/\n",
    "\n",
    "from dotenv import load_dotenv\n",
    "from langchain_google_genai import ChatGoogleGenerativeAI\n",
    "\n",
    "# Load environment variables from .env\n",
    "load_dotenv()\n",
    "\n",
    "# Create a ChatGoogleGenerativeAI model\n",
    "model = ChatGoogleGenerativeAI(model=\"gemini-2.5-flash\",)\n",
    "\n",
    "# Invoke the model with a message\n",
    "result = model.invoke(\"81除以9的答案是?\")\n",
    "print(\"所有答案\")\n",
    "print(result)\n",
    "print(\"回答內容是\")\n",
    "print(result.content)"
   ]
  },
  {
   "cell_type": "code",
   "execution_count": 20,
   "id": "82416a52",
   "metadata": {},
   "outputs": [
    {
     "name": "stdout",
     "output_type": "stream",
     "text": [
      "<class 'langchain_google_genai.chat_models.ChatGoogleGenerativeAI'>\n",
      "所有答案\n",
      "content='風過無痕，葉落知秋。' additional_kwargs={} response_metadata={'prompt_feedback': {'block_reason': 0, 'safety_ratings': []}, 'finish_reason': 'STOP', 'model_name': 'gemini-2.5-flash', 'safety_ratings': []} id='run--315bb19e-fab5-4f76-a71b-5da1f8414924-0' usage_metadata={'input_tokens': 12, 'output_tokens': 818, 'total_tokens': 830, 'input_token_details': {'cache_read': 0}, 'output_token_details': {'reasoning': 808}}\n",
      "回答內容是\n",
      "風過無痕，葉落知秋。\n"
     ]
    }
   ],
   "source": [
    "#google\n",
    "# Chat Model Documents:https://python.langchain.com/docs/integrations/chat/\n",
    "# Google Chat Model Documents: https://python.langchain.com/docs/integrations/chat/google_generative_ai/\n",
    "\n",
    "from dotenv import load_dotenv\n",
    "from langchain_google_genai import ChatGoogleGenerativeAI\n",
    "\n",
    "# Load environment variables from .env\n",
    "load_dotenv()\n",
    "\n",
    "# Create a ChatGoogleGenerativeAI model\n",
    "model = ChatGoogleGenerativeAI(model=\"gemini-2.5-flash\",)\n",
    "print(type(model))\n",
    "\n",
    "# Invoke the model with a message\n",
    "result = model.invoke(\"幫我寫一首詩，用一句話就好\")\n",
    "print(\"所有答案\")\n",
    "print(result)\n",
    "print(\"回答內容是\")\n",
    "print(result.content)"
   ]
  }
 ],
 "metadata": {
  "kernelspec": {
   "display_name": ".venv",
   "language": "python",
   "name": "python3"
  },
  "language_info": {
   "codemirror_mode": {
    "name": "ipython",
    "version": 3
   },
   "file_extension": ".py",
   "mimetype": "text/x-python",
   "name": "python",
   "nbconvert_exporter": "python",
   "pygments_lexer": "ipython3",
   "version": "3.10.18"
  }
 },
 "nbformat": 4,
 "nbformat_minor": 5
}
