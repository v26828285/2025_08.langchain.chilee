{
 "cells": [
  {
   "cell_type": "markdown",
   "id": "c77db05f",
   "metadata": {},
   "source": [
    "### 你現在做的事情，就是一個完整的本地端生成式 AI 應用。你沒有使用任何雲端服務，所有運算都在你的電腦上完成。這在開發 AI 應用時是很常見的做法，特別是為了保護資料隱私、降低成本或是客製化模型行為。"
   ]
  },
  {
   "cell_type": "code",
   "execution_count": 19,
   "id": "3f0adf6b",
   "metadata": {},
   "outputs": [
    {
     "name": "stdout",
     "output_type": "stream",
     "text": [
      "請求成功\n"
     ]
    },
    {
     "data": {
      "text/html": [
       "<p>天空之所以是藍色，是一個非常有趣且複雜的現象，主要歸功於一種叫做<strong>瑞利散射 (Rayleigh scattering)</strong> 的物理現象。以下是更詳細的解釋：</p>\n",
       "<p><strong>1. 太陽光為什麼是白色的？</strong></p>\n",
       "<p>太陽光看起來是白色的，但實際上它是由不同顏色的光混合而成。太陽光本身包含紅、橙、黃、綠、藍、靛、紫等各種顏色。</p>\n",
       "<p><strong>2. 瑞利散射的原理</strong></p>\n",
       "<ul>\n",
       "<li><strong>光的波長：</strong> 不同的顏色光具有不同的波長。藍色和紫色的光波長比較短，而紅色的光波長比較長。</li>\n",
       "<li><strong>空氣中的微粒：</strong> 大氣中存在大量的微小顆粒，例如空氣中的氮氣和氧氣。</li>\n",
       "<li><strong>瑞利散射：</strong> 當光線穿過空氣時，會發生瑞利散射。瑞利散射是指當光線遇到微小粒子時，光線會被散射到不同方向的，散射的程度與光的波長成正比。</li>\n",
       "<li><strong>藍光散射更厲害：</strong> 藍色和紫色的光波長很短，所以它們更容易被空氣中的微粒散射。</li>\n",
       "</ul>\n",
       "<p><strong>3. 為什麼天空是藍色？</strong></p>\n",
       "<p>由於藍色光被散射到整個天空，所以我們看到的天空時，我們看到的就是藍色光。 就像陽光穿過空氣時，藍色光更容易被散射，所以我們眼睛更容易接收到藍色光。</p>\n",
       "<p><strong>4. 為什麼日出和日落是紅色/橙色？</strong></p>\n",
       "<p>當太陽位於地平線附近時，太陽光需要穿過更厚的大氣層才能到達我們的眼睛。在這個過程中，藍光被散射得非常多，而紅光和黃光可以穿透更遠，到達我們的眼睛。因此，我們看到的天空呈現紅色或橙色。</p>\n",
       "<p><strong>總結：</strong></p>\n",
       "<p>天空呈現藍色是因為藍光更容易被空氣中的微粒散射，而紅光和黃光可以穿透更遠。</p>\n",
       "<p>希望這個解釋能讓你更好地理解為什麼天空是藍色的！</p>\n",
       "<hr />\n",
       "<p><strong>補充說明：</strong></p>\n",
       "<ul>\n",
       "<li><strong>沒有其他顏色：</strong>  天空並不是因為地球上存在其他顏色，而是因為我們在觀測時，我們眼睛接收到的光線是藍色，而其他顏色光線被散射了。</li>\n",
       "<li><strong>其他因素影響：</strong>  雖然瑞利散射是主要原因，但其他因素，例如大氣中的雲層，也會影響天空的顏色。</li>\n",
       "</ul>\n",
       "<p>如果你想了解更多關於天空顏色的細節，可以進一步閱讀關於瑞利散射的科普文章或影片。</p>"
      ],
      "text/plain": [
       "<IPython.core.display.HTML object>"
      ]
     },
     "metadata": {},
     "output_type": "display_data"
    }
   ],
   "source": [
    "#json 企業跟企業溝通的資料格式 檔案小 效能好\n",
    "# https://github.com/ollama/ollama/blob/main/README.md#quickstart  模型說明書\n",
    "\n",
    "import requests\n",
    "import json\n",
    "import markdown  # pip install markdown\n",
    "from IPython.display import display, HTML\n",
    "\n",
    "url = 'http://localhost:11434/api/generate'\n",
    "\n",
    "data = {\n",
    "  \"model\": \"gemma3:1b\",\n",
    "  \"prompt\":\"為什麼天空是藍色?\",\n",
    "  \"stream\":False,\n",
    "  \"options\": { #參考說明1\n",
    "            \"temperature\": 0.7,\n",
    "            \"top_p\": 0.9,\n",
    "            \"top_k\": 50,\n",
    "        }\n",
    "}\n",
    "\n",
    "\n",
    "response = requests.post(url, json=data)\n",
    "\n",
    "if response.status_code == 200:\n",
    "    print('請求成功')\n",
    "    #print('回傳的json',response.json())\n",
    "    #print(type(response.json()))\n",
    "    \n",
    "    answer = response.json()['response']\n",
    "    #print(f\"AI 回答:{answer}\")\n",
    "    markdown_answer = markdown.markdown(answer)\n",
    "\n",
    "    display(HTML(markdown_answer))\n",
    "\n",
    "else:\n",
    "    print('請求失敗')\n",
    "    print((f'狀態碼:{ response.status_code}'))\n",
    "    print((f'錯誤訊息:{ response.text}'))\n"
   ]
  },
  {
   "cell_type": "code",
   "execution_count": 20,
   "id": "f23a371b",
   "metadata": {},
   "outputs": [
    {
     "name": "stdout",
     "output_type": "stream",
     "text": [
      "💬 AI 回應：\n",
      "{'error': \"model 'gpt-oss:20b' not found\"}\n",
      "No expected key found in response. Available keys: dict_keys(['error'])\n"
     ]
    }
   ],
   "source": [
    "#老師的範例\n",
    "\n",
    "import requests\n",
    "\n",
    "def chat_with_ollama(prompt: str):\n",
    "    url = \"http://localhost:11434/api/generate\"\n",
    "    payload = {\n",
    "        \"model\": \"gpt-oss:20b\",\n",
    "        \"prompt\": prompt,\n",
    "        \"stream\": False,\n",
    "        \"options\": { #參考說明1\n",
    "            \"temperature\": 0.7,\n",
    "            \"top_p\": 0.9,\n",
    "            \"top_k\": 50,\n",
    "        }\n",
    "        \n",
    "    }\n",
    "\n",
    "    response = requests.post(url, json=payload)\n",
    "    result = response.json()\n",
    "    print(\"💬 AI 回應：\")\n",
    "    # Print the whole result for debugging\n",
    "    print(result)\n",
    "    # Try to print the 'response' key if it exists, otherwise print possible keys\n",
    "    if \"response\" in result:\n",
    "        print(result[\"response\"])\n",
    "    elif \"message\" in result:\n",
    "        print(result[\"message\"])\n",
    "    elif \"content\" in result:\n",
    "        print(result[\"content\"])\n",
    "    else:\n",
    "        print(\"No expected key found in response. Available keys:\", result.keys())\n",
    "\n",
    "#範例輸入\n",
    "chat_with_ollama(\"請用簡單的方式解釋什麼是Python的函式？\")"
   ]
  }
 ],
 "metadata": {
  "kernelspec": {
   "display_name": "langchain",
   "language": "python",
   "name": "python3"
  },
  "language_info": {
   "codemirror_mode": {
    "name": "ipython",
    "version": 3
   },
   "file_extension": ".py",
   "mimetype": "text/x-python",
   "name": "python",
   "nbconvert_exporter": "python",
   "pygments_lexer": "ipython3",
   "version": "3.11.13"
  }
 },
 "nbformat": 4,
 "nbformat_minor": 5
}
