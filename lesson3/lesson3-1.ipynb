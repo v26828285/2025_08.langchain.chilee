{
 "cells": [
  {
   "cell_type": "code",
   "execution_count": 6,
   "id": "368f5297",
   "metadata": {},
   "outputs": [
    {
     "name": "stdout",
     "output_type": "stream",
     "text": [
      "現在的日期和時間 2025-09-13 10:15:32.514456\n",
      "隨機產生的數字 10\n",
      "現在工作目錄 c:\\Users\\user\\Documents\\GitHub\\2025_08.langchain.chilee\\lesson3\n"
     ]
    }
   ],
   "source": [
    "# 使用 PYTHON\n",
    "\n",
    "import datetime\n",
    "import random\n",
    "import os\n",
    "\n",
    "\n",
    "now = datetime.datetime.now()\n",
    "print('現在的日期和時間',now)\n",
    "\n",
    "rand_num = random.randint(1,10)\n",
    "print('隨機產生的數字',rand_num)\n",
    "\n",
    "current_dir = os.getcwd()\n",
    "print('現在工作目錄',current_dir)\n",
    "\n",
    "\n",
    "\n"
   ]
  },
  {
   "cell_type": "markdown",
   "id": "8a086a76",
   "metadata": {},
   "source": [
    "### 利用python外部套件request 來說明\n",
    "\n",
    "終端機 或 jupyternote book內 \n",
    "執行 pip install requests\n",
    "\n",
    "\n",
    "### 使用 requests 套件發送 GET 請求\n",
    "\n"
   ]
  },
  {
   "cell_type": "code",
   "execution_count": 9,
   "id": "57f454a1",
   "metadata": {},
   "outputs": [
    {
     "name": "stdout",
     "output_type": "stream",
     "text": [
      "回應狀態碼 200\n",
      "回應的前100字元 <!doctype html><html itemscope=\"\" itemtype=\"http://schema.org/WebPage\" lang=\"zh-TW\"><head><meta cont\n"
     ]
    }
   ],
   "source": [
    "import requests\n",
    "response = requests.get('https://www.google.com/')\n",
    "print('回應狀態碼',response.status_code)\n",
    "print('回應的前100字元',response.text[:100])"
   ]
  }
 ],
 "metadata": {
  "kernelspec": {
   "display_name": "langchain",
   "language": "python",
   "name": "python3"
  },
  "language_info": {
   "codemirror_mode": {
    "name": "ipython",
    "version": 3
   },
   "file_extension": ".py",
   "mimetype": "text/x-python",
   "name": "python",
   "nbconvert_exporter": "python",
   "pygments_lexer": "ipython3",
   "version": "3.11.13"
  }
 },
 "nbformat": 4,
 "nbformat_minor": 5
}
