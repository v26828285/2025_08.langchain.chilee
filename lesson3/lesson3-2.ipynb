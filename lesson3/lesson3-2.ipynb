{
 "cells": [
  {
   "cell_type": "markdown",
   "id": "6138758a",
   "metadata": {},
   "source": [
    "curl http://localhost:11434/api/generate -d '{ \"model\": \"llama3.2\", \"prompt\":\"Why is the sky blue?\" }'\n"
   ]
  },
  {
   "cell_type": "code",
   "execution_count": null,
   "id": "078e51ce",
   "metadata": {},
   "outputs": [],
   "source": [
    "\n",
    "import requests\n",
    "\n",
    "# 將您的 curl 命令轉換成 requests\n",
    "url = \"http://localhost:11434/api/generate\"\n",
    "\n",
    "# 準備請求的資料 (JSON 格式)\n",
    "data = {\n",
    "    \"model\": \"llama3.2\",\n",
    "    \"prompt\": \"Why is the sky blue?\"\n",
    "}\n",
    "\n",
    "# 發送 POST 請求 (因為 curl 使用了 -d 參數)\n",
    "response = requests.post(url, json=data)\n",
    "\n",
    "# 檢查回應狀態\n",
    "print(f\"狀態碼: {response.status_code}\")\n",
    "\n",
    "# 取得回應內容\n",
    "if response.status_code == 200:\n",
    "    result = response.json()\n",
    "    print(\"回應內容:\")\n",
    "    print(result)\n",
    "else:\n",
    "    print(f\"請求失敗: {response.text}\")\n",
    "\n"
   ]
  },
  {
   "cell_type": "code",
   "execution_count": null,
   "id": "43c45f6d",
   "metadata": {},
   "outputs": [],
   "source": [
    "#gemini 補充\n",
    "\n",
    "import requests\n",
    "import json\n",
    "\n",
    "url = \"http://localhost:11434/api/chat\"\n",
    "\n",
    "# 建立要傳送的 JSON 資料\n",
    "data = {\n",
    "    \"model\": \"llama3.2\",\n",
    "    \"messages\": [\n",
    "        {\n",
    "            \"role\": \"user\",\n",
    "            \"content\": \"why is the sky blue?\"\n",
    "        }\n",
    "    ]\n",
    "}\n",
    "\n",
    "# 傳送 POST 請求\n",
    "response = requests.post(url, data=json.dumps(data))\n",
    "\n",
    "# 處理回傳的內容\n",
    "if response.status_code == 200:\n",
    "    print(response.json())\n",
    "else:\n",
    "    print(f\"API 呼叫失敗，狀態碼：{response.status_code}\")\n",
    "    print(response.text)\n"
   ]
  },
  {
   "cell_type": "markdown",
   "id": "68ac4b5d",
   "metadata": {},
   "source": [
    "curl 轉換成 requests 的說明\n",
    "🔄 轉換要點：\n",
    "HTTP 方法：curl -d 表示發送 POST 請求，所以使用 requests.post()\n",
    "\n",
    "URL：直接使用相同的 URL\n",
    "\n",
    "資料格式：\n",
    "\n",
    "curl -d 後面的 JSON 資料變成 Python 字典\n",
    "使用 json=data 參數自動處理 Content-Type 和 JSON 編碼\n",
    "🎯 兩種主要方法：\n",
    "方法1（推薦）：使用 json 參數\n",
    "\n",
    "response = requests.post(url, json=data)\n",
    "方法2：使用 data 參數 + 手動 JSON 編碼\n",
    "\n",
    "response = requests.post(url, data=json.dumps(data), headers={'Content-Type': 'application/json'})\n",
    "⚠️ 注意事項：\n",
    "確保目標伺服器正在運行\n",
    "檢查網路連線\n",
    "處理可能的錯誤狀況"
   ]
  },
  {
   "cell_type": "code",
   "execution_count": null,
   "id": "04d6bd49",
   "metadata": {},
   "outputs": [],
   "source": []
  }
 ],
 "metadata": {
  "kernelspec": {
   "display_name": "langchain",
   "language": "python",
   "name": "python3"
  },
  "language_info": {
   "name": "python",
   "version": "3.11.13"
  }
 },
 "nbformat": 4,
 "nbformat_minor": 5
}
