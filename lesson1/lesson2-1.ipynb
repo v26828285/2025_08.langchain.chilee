{
 "cells": [
  {
   "cell_type": "markdown",
   "id": "a063f552",
   "metadata": {},
   "source": [
    "### python 數學運算\n",
    "\n",
    "字串 str\n",
    "整數 int\n",
    "浮點數 float\n",
    "布林值 bool\n",
    "\n",
    "工具:\n",
    "function(函數,函式)"
   ]
  },
  {
   "cell_type": "code",
<<<<<<< HEAD
   "execution_count": 5,
=======
   "execution_count": 4,
>>>>>>> 48b525e6c1567a2c83c212aaf0024d6c411afd46
   "id": "bb3df91d",
   "metadata": {},
   "outputs": [
    {
     "name": "stdout",
     "output_type": "stream",
     "text": [
      "<class 'str'>\n",
      "<class 'int'>\n",
      "<class 'float'>\n",
      "<class 'bool'>\n"
     ]
    }
   ],
   "source": [
    "name = \"小明\"\n",
    "print(type(name)) #呼叫type函數\n",
    "\n",
    "age = 18\n",
    "print(type(age))\n",
    "\n",
    "height = 170.5\n",
    "print(type(height))\n",
    "\n",
    "is_student = True\n",
    "print(type(is_student))\n",
    "\n",
    "\n",
    "\n",
    "\n",
    "\n",
    "\n"
   ]
  },
  {
   "cell_type": "markdown",
   "id": "46c73b2e",
   "metadata": {},
   "source": []
<<<<<<< HEAD
  },
  {
   "cell_type": "code",
   "execution_count": 9,
   "id": "e37cc412",
   "metadata": {},
   "outputs": [
    {
     "name": "stdout",
     "output_type": "stream",
     "text": [
      "name變數儲存的值是 小明 ,資料類型: <class 'str'>....\n",
      "age變數儲存的值是 18 ,資料類型: <class 'int'>....\n"
     ]
    }
   ],
   "source": [
    "print(\"name變數儲存的值是\", name, \",資料類型:\", type(name), sep=' ', end='....\\n')\n",
    "print(\"age變數儲存的值是\", age, \",資料類型:\", type(age), sep=' ', end='....\\n')\n"
   ]
=======
>>>>>>> 48b525e6c1567a2c83c212aaf0024d6c411afd46
  }
 ],
 "metadata": {
  "kernelspec": {
   "display_name": "langchain",
   "language": "python",
   "name": "python3"
  },
  "language_info": {
   "codemirror_mode": {
    "name": "ipython",
    "version": 3
   },
   "file_extension": ".py",
   "mimetype": "text/x-python",
   "name": "python",
   "nbconvert_exporter": "python",
   "pygments_lexer": "ipython3",
   "version": "3.11.13"
  }
 },
 "nbformat": 4,
 "nbformat_minor": 5
}
